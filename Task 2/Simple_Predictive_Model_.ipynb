{
  "nbformat": 4,
  "nbformat_minor": 0,
  "metadata": {
    "colab": {
      "provenance": [],
      "authorship_tag": "ABX9TyPd6mtr8y5OYUosgh//Pyji",
      "include_colab_link": true
    },
    "kernelspec": {
      "name": "python3",
      "display_name": "Python 3"
    },
    "language_info": {
      "name": "python"
    }
  },
  "cells": [
    {
      "cell_type": "markdown",
      "metadata": {
        "id": "view-in-github",
        "colab_type": "text"
      },
      "source": [
        "<a href=\"https://colab.research.google.com/github/Koder-Kartik/Orison-Technologies-Internship/blob/main/Task%202/Simple_Predictive_Model_.ipynb\" target=\"_parent\"><img src=\"https://colab.research.google.com/assets/colab-badge.svg\" alt=\"Open In Colab\"/></a>"
      ]
    },
    {
      "cell_type": "markdown",
      "source": [
        "##Dataset Loading and Preprocessing"
      ],
      "metadata": {
        "id": "A15hMB3pf_C_"
      }
    },
    {
      "cell_type": "code",
      "source": [
        "# import libraries\n",
        "import numpy as np\n",
        "import pandas as pd\n",
        "from sklearn.neighbors import KNeighborsClassifier\n",
        "from sklearn.metrics import accuracy_score\n",
        ""
      ],
      "metadata": {
        "id": "ggT9H6ipgCEY"
      },
      "execution_count": 2,
      "outputs": []
    },
    {
      "cell_type": "code",
      "source": [
        "# Loading the Iris dataset\n",
        "from sklearn import datasets\n",
        "iris = datasets.load_iris()\n",
        "X = iris.data\n",
        "y= iris.target #target here is species\n",
        "#Viewing the dataset\n",
        "print(X)\n",
        "print(y)"
      ],
      "metadata": {
        "colab": {
          "base_uri": "https://localhost:8080/"
        },
        "id": "8NCSgS5kgIoC",
        "outputId": "4bf4506a-b037-49b7-a6ba-8a7583fdcf6d"
      },
      "execution_count": 3,
      "outputs": [
        {
          "output_type": "stream",
          "name": "stdout",
          "text": [
            "[[5.1 3.5 1.4 0.2]\n",
            " [4.9 3.  1.4 0.2]\n",
            " [4.7 3.2 1.3 0.2]\n",
            " [4.6 3.1 1.5 0.2]\n",
            " [5.  3.6 1.4 0.2]\n",
            " [5.4 3.9 1.7 0.4]\n",
            " [4.6 3.4 1.4 0.3]\n",
            " [5.  3.4 1.5 0.2]\n",
            " [4.4 2.9 1.4 0.2]\n",
            " [4.9 3.1 1.5 0.1]\n",
            " [5.4 3.7 1.5 0.2]\n",
            " [4.8 3.4 1.6 0.2]\n",
            " [4.8 3.  1.4 0.1]\n",
            " [4.3 3.  1.1 0.1]\n",
            " [5.8 4.  1.2 0.2]\n",
            " [5.7 4.4 1.5 0.4]\n",
            " [5.4 3.9 1.3 0.4]\n",
            " [5.1 3.5 1.4 0.3]\n",
            " [5.7 3.8 1.7 0.3]\n",
            " [5.1 3.8 1.5 0.3]\n",
            " [5.4 3.4 1.7 0.2]\n",
            " [5.1 3.7 1.5 0.4]\n",
            " [4.6 3.6 1.  0.2]\n",
            " [5.1 3.3 1.7 0.5]\n",
            " [4.8 3.4 1.9 0.2]\n",
            " [5.  3.  1.6 0.2]\n",
            " [5.  3.4 1.6 0.4]\n",
            " [5.2 3.5 1.5 0.2]\n",
            " [5.2 3.4 1.4 0.2]\n",
            " [4.7 3.2 1.6 0.2]\n",
            " [4.8 3.1 1.6 0.2]\n",
            " [5.4 3.4 1.5 0.4]\n",
            " [5.2 4.1 1.5 0.1]\n",
            " [5.5 4.2 1.4 0.2]\n",
            " [4.9 3.1 1.5 0.2]\n",
            " [5.  3.2 1.2 0.2]\n",
            " [5.5 3.5 1.3 0.2]\n",
            " [4.9 3.6 1.4 0.1]\n",
            " [4.4 3.  1.3 0.2]\n",
            " [5.1 3.4 1.5 0.2]\n",
            " [5.  3.5 1.3 0.3]\n",
            " [4.5 2.3 1.3 0.3]\n",
            " [4.4 3.2 1.3 0.2]\n",
            " [5.  3.5 1.6 0.6]\n",
            " [5.1 3.8 1.9 0.4]\n",
            " [4.8 3.  1.4 0.3]\n",
            " [5.1 3.8 1.6 0.2]\n",
            " [4.6 3.2 1.4 0.2]\n",
            " [5.3 3.7 1.5 0.2]\n",
            " [5.  3.3 1.4 0.2]\n",
            " [7.  3.2 4.7 1.4]\n",
            " [6.4 3.2 4.5 1.5]\n",
            " [6.9 3.1 4.9 1.5]\n",
            " [5.5 2.3 4.  1.3]\n",
            " [6.5 2.8 4.6 1.5]\n",
            " [5.7 2.8 4.5 1.3]\n",
            " [6.3 3.3 4.7 1.6]\n",
            " [4.9 2.4 3.3 1. ]\n",
            " [6.6 2.9 4.6 1.3]\n",
            " [5.2 2.7 3.9 1.4]\n",
            " [5.  2.  3.5 1. ]\n",
            " [5.9 3.  4.2 1.5]\n",
            " [6.  2.2 4.  1. ]\n",
            " [6.1 2.9 4.7 1.4]\n",
            " [5.6 2.9 3.6 1.3]\n",
            " [6.7 3.1 4.4 1.4]\n",
            " [5.6 3.  4.5 1.5]\n",
            " [5.8 2.7 4.1 1. ]\n",
            " [6.2 2.2 4.5 1.5]\n",
            " [5.6 2.5 3.9 1.1]\n",
            " [5.9 3.2 4.8 1.8]\n",
            " [6.1 2.8 4.  1.3]\n",
            " [6.3 2.5 4.9 1.5]\n",
            " [6.1 2.8 4.7 1.2]\n",
            " [6.4 2.9 4.3 1.3]\n",
            " [6.6 3.  4.4 1.4]\n",
            " [6.8 2.8 4.8 1.4]\n",
            " [6.7 3.  5.  1.7]\n",
            " [6.  2.9 4.5 1.5]\n",
            " [5.7 2.6 3.5 1. ]\n",
            " [5.5 2.4 3.8 1.1]\n",
            " [5.5 2.4 3.7 1. ]\n",
            " [5.8 2.7 3.9 1.2]\n",
            " [6.  2.7 5.1 1.6]\n",
            " [5.4 3.  4.5 1.5]\n",
            " [6.  3.4 4.5 1.6]\n",
            " [6.7 3.1 4.7 1.5]\n",
            " [6.3 2.3 4.4 1.3]\n",
            " [5.6 3.  4.1 1.3]\n",
            " [5.5 2.5 4.  1.3]\n",
            " [5.5 2.6 4.4 1.2]\n",
            " [6.1 3.  4.6 1.4]\n",
            " [5.8 2.6 4.  1.2]\n",
            " [5.  2.3 3.3 1. ]\n",
            " [5.6 2.7 4.2 1.3]\n",
            " [5.7 3.  4.2 1.2]\n",
            " [5.7 2.9 4.2 1.3]\n",
            " [6.2 2.9 4.3 1.3]\n",
            " [5.1 2.5 3.  1.1]\n",
            " [5.7 2.8 4.1 1.3]\n",
            " [6.3 3.3 6.  2.5]\n",
            " [5.8 2.7 5.1 1.9]\n",
            " [7.1 3.  5.9 2.1]\n",
            " [6.3 2.9 5.6 1.8]\n",
            " [6.5 3.  5.8 2.2]\n",
            " [7.6 3.  6.6 2.1]\n",
            " [4.9 2.5 4.5 1.7]\n",
            " [7.3 2.9 6.3 1.8]\n",
            " [6.7 2.5 5.8 1.8]\n",
            " [7.2 3.6 6.1 2.5]\n",
            " [6.5 3.2 5.1 2. ]\n",
            " [6.4 2.7 5.3 1.9]\n",
            " [6.8 3.  5.5 2.1]\n",
            " [5.7 2.5 5.  2. ]\n",
            " [5.8 2.8 5.1 2.4]\n",
            " [6.4 3.2 5.3 2.3]\n",
            " [6.5 3.  5.5 1.8]\n",
            " [7.7 3.8 6.7 2.2]\n",
            " [7.7 2.6 6.9 2.3]\n",
            " [6.  2.2 5.  1.5]\n",
            " [6.9 3.2 5.7 2.3]\n",
            " [5.6 2.8 4.9 2. ]\n",
            " [7.7 2.8 6.7 2. ]\n",
            " [6.3 2.7 4.9 1.8]\n",
            " [6.7 3.3 5.7 2.1]\n",
            " [7.2 3.2 6.  1.8]\n",
            " [6.2 2.8 4.8 1.8]\n",
            " [6.1 3.  4.9 1.8]\n",
            " [6.4 2.8 5.6 2.1]\n",
            " [7.2 3.  5.8 1.6]\n",
            " [7.4 2.8 6.1 1.9]\n",
            " [7.9 3.8 6.4 2. ]\n",
            " [6.4 2.8 5.6 2.2]\n",
            " [6.3 2.8 5.1 1.5]\n",
            " [6.1 2.6 5.6 1.4]\n",
            " [7.7 3.  6.1 2.3]\n",
            " [6.3 3.4 5.6 2.4]\n",
            " [6.4 3.1 5.5 1.8]\n",
            " [6.  3.  4.8 1.8]\n",
            " [6.9 3.1 5.4 2.1]\n",
            " [6.7 3.1 5.6 2.4]\n",
            " [6.9 3.1 5.1 2.3]\n",
            " [5.8 2.7 5.1 1.9]\n",
            " [6.8 3.2 5.9 2.3]\n",
            " [6.7 3.3 5.7 2.5]\n",
            " [6.7 3.  5.2 2.3]\n",
            " [6.3 2.5 5.  1.9]\n",
            " [6.5 3.  5.2 2. ]\n",
            " [6.2 3.4 5.4 2.3]\n",
            " [5.9 3.  5.1 1.8]]\n",
            "[0 0 0 0 0 0 0 0 0 0 0 0 0 0 0 0 0 0 0 0 0 0 0 0 0 0 0 0 0 0 0 0 0 0 0 0 0\n",
            " 0 0 0 0 0 0 0 0 0 0 0 0 0 1 1 1 1 1 1 1 1 1 1 1 1 1 1 1 1 1 1 1 1 1 1 1 1\n",
            " 1 1 1 1 1 1 1 1 1 1 1 1 1 1 1 1 1 1 1 1 1 1 1 1 1 1 2 2 2 2 2 2 2 2 2 2 2\n",
            " 2 2 2 2 2 2 2 2 2 2 2 2 2 2 2 2 2 2 2 2 2 2 2 2 2 2 2 2 2 2 2 2 2 2 2 2 2\n",
            " 2 2]\n"
          ]
        }
      ]
    },
    {
      "cell_type": "code",
      "source": [
        "# Splitting the dataset\n",
        "from sklearn.model_selection import train_test_split\n",
        "X_train, X_test, y_train, y_test = train_test_split(X, y, test_size=0.2, random_state=42)\n",
        "# Here we are splitting the dataset into training and testing with\n",
        "# 80% training and 20% testing\n",
        "# Viewing the dataset\n",
        "print(X_train)\n",
        "print(y_train)"
      ],
      "metadata": {
        "colab": {
          "base_uri": "https://localhost:8080/"
        },
        "id": "xsTxeNeVgTyR",
        "outputId": "6cb436cf-3776-4cdf-e404-88383e1a6190"
      },
      "execution_count": 4,
      "outputs": [
        {
          "output_type": "stream",
          "name": "stdout",
          "text": [
            "[[4.6 3.6 1.  0.2]\n",
            " [5.7 4.4 1.5 0.4]\n",
            " [6.7 3.1 4.4 1.4]\n",
            " [4.8 3.4 1.6 0.2]\n",
            " [4.4 3.2 1.3 0.2]\n",
            " [6.3 2.5 5.  1.9]\n",
            " [6.4 3.2 4.5 1.5]\n",
            " [5.2 3.5 1.5 0.2]\n",
            " [5.  3.6 1.4 0.2]\n",
            " [5.2 4.1 1.5 0.1]\n",
            " [5.8 2.7 5.1 1.9]\n",
            " [6.  3.4 4.5 1.6]\n",
            " [6.7 3.1 4.7 1.5]\n",
            " [5.4 3.9 1.3 0.4]\n",
            " [5.4 3.7 1.5 0.2]\n",
            " [5.5 2.4 3.7 1. ]\n",
            " [6.3 2.8 5.1 1.5]\n",
            " [6.4 3.1 5.5 1.8]\n",
            " [6.6 3.  4.4 1.4]\n",
            " [7.2 3.6 6.1 2.5]\n",
            " [5.7 2.9 4.2 1.3]\n",
            " [7.6 3.  6.6 2.1]\n",
            " [5.6 3.  4.5 1.5]\n",
            " [5.1 3.5 1.4 0.2]\n",
            " [7.7 2.8 6.7 2. ]\n",
            " [5.8 2.7 4.1 1. ]\n",
            " [5.2 3.4 1.4 0.2]\n",
            " [5.  3.5 1.3 0.3]\n",
            " [5.1 3.8 1.9 0.4]\n",
            " [5.  2.  3.5 1. ]\n",
            " [6.3 2.7 4.9 1.8]\n",
            " [4.8 3.4 1.9 0.2]\n",
            " [5.  3.  1.6 0.2]\n",
            " [5.1 3.3 1.7 0.5]\n",
            " [5.6 2.7 4.2 1.3]\n",
            " [5.1 3.4 1.5 0.2]\n",
            " [5.7 3.  4.2 1.2]\n",
            " [7.7 3.8 6.7 2.2]\n",
            " [4.6 3.2 1.4 0.2]\n",
            " [6.2 2.9 4.3 1.3]\n",
            " [5.7 2.5 5.  2. ]\n",
            " [5.5 4.2 1.4 0.2]\n",
            " [6.  3.  4.8 1.8]\n",
            " [5.8 2.7 5.1 1.9]\n",
            " [6.  2.2 4.  1. ]\n",
            " [5.4 3.  4.5 1.5]\n",
            " [6.2 3.4 5.4 2.3]\n",
            " [5.5 2.3 4.  1.3]\n",
            " [5.4 3.9 1.7 0.4]\n",
            " [5.  2.3 3.3 1. ]\n",
            " [6.4 2.7 5.3 1.9]\n",
            " [5.  3.3 1.4 0.2]\n",
            " [5.  3.2 1.2 0.2]\n",
            " [5.5 2.4 3.8 1.1]\n",
            " [6.7 3.  5.  1.7]\n",
            " [4.9 3.1 1.5 0.2]\n",
            " [5.8 2.8 5.1 2.4]\n",
            " [5.  3.4 1.5 0.2]\n",
            " [5.  3.5 1.6 0.6]\n",
            " [5.9 3.2 4.8 1.8]\n",
            " [5.1 2.5 3.  1.1]\n",
            " [6.9 3.2 5.7 2.3]\n",
            " [6.  2.7 5.1 1.6]\n",
            " [6.1 2.6 5.6 1.4]\n",
            " [7.7 3.  6.1 2.3]\n",
            " [5.5 2.5 4.  1.3]\n",
            " [4.4 2.9 1.4 0.2]\n",
            " [4.3 3.  1.1 0.1]\n",
            " [6.  2.2 5.  1.5]\n",
            " [7.2 3.2 6.  1.8]\n",
            " [4.6 3.1 1.5 0.2]\n",
            " [5.1 3.5 1.4 0.3]\n",
            " [4.4 3.  1.3 0.2]\n",
            " [6.3 2.5 4.9 1.5]\n",
            " [6.3 3.4 5.6 2.4]\n",
            " [4.6 3.4 1.4 0.3]\n",
            " [6.8 3.  5.5 2.1]\n",
            " [6.3 3.3 6.  2.5]\n",
            " [4.7 3.2 1.3 0.2]\n",
            " [6.1 2.9 4.7 1.4]\n",
            " [6.5 2.8 4.6 1.5]\n",
            " [6.2 2.8 4.8 1.8]\n",
            " [7.  3.2 4.7 1.4]\n",
            " [6.4 3.2 5.3 2.3]\n",
            " [5.1 3.8 1.6 0.2]\n",
            " [6.9 3.1 5.4 2.1]\n",
            " [5.9 3.  4.2 1.5]\n",
            " [6.5 3.  5.2 2. ]\n",
            " [5.7 2.6 3.5 1. ]\n",
            " [5.2 2.7 3.9 1.4]\n",
            " [6.1 3.  4.6 1.4]\n",
            " [4.5 2.3 1.3 0.3]\n",
            " [6.6 2.9 4.6 1.3]\n",
            " [5.5 2.6 4.4 1.2]\n",
            " [5.3 3.7 1.5 0.2]\n",
            " [5.6 3.  4.1 1.3]\n",
            " [7.3 2.9 6.3 1.8]\n",
            " [6.7 3.3 5.7 2.1]\n",
            " [5.1 3.7 1.5 0.4]\n",
            " [4.9 2.4 3.3 1. ]\n",
            " [6.7 3.3 5.7 2.5]\n",
            " [7.2 3.  5.8 1.6]\n",
            " [4.9 3.6 1.4 0.1]\n",
            " [6.7 3.1 5.6 2.4]\n",
            " [4.9 3.  1.4 0.2]\n",
            " [6.9 3.1 4.9 1.5]\n",
            " [7.4 2.8 6.1 1.9]\n",
            " [6.3 2.9 5.6 1.8]\n",
            " [5.7 2.8 4.1 1.3]\n",
            " [6.5 3.  5.5 1.8]\n",
            " [6.3 2.3 4.4 1.3]\n",
            " [6.4 2.9 4.3 1.3]\n",
            " [5.6 2.8 4.9 2. ]\n",
            " [5.9 3.  5.1 1.8]\n",
            " [5.4 3.4 1.7 0.2]\n",
            " [6.1 2.8 4.  1.3]\n",
            " [4.9 2.5 4.5 1.7]\n",
            " [5.8 4.  1.2 0.2]\n",
            " [5.8 2.6 4.  1.2]\n",
            " [7.1 3.  5.9 2.1]]\n",
            "[0 0 1 0 0 2 1 0 0 0 2 1 1 0 0 1 2 2 1 2 1 2 1 0 2 1 0 0 0 1 2 0 0 0 1 0 1\n",
            " 2 0 1 2 0 2 2 1 1 2 1 0 1 2 0 0 1 1 0 2 0 0 1 1 2 1 2 2 1 0 0 2 2 0 0 0 1\n",
            " 2 0 2 2 0 1 1 2 1 2 0 2 1 2 1 1 1 0 1 1 0 1 2 2 0 1 2 2 0 2 0 1 2 2 1 2 1\n",
            " 1 2 2 0 1 2 0 1 2]\n"
          ]
        }
      ]
    },
    {
      "cell_type": "markdown",
      "source": [
        "##Preprocessing the data"
      ],
      "metadata": {
        "id": "ycYG6fTegjez"
      }
    },
    {
      "cell_type": "code",
      "source": [
        "# Standardize the features\n",
        "from sklearn.preprocessing import StandardScaler\n",
        "#Initialize the standardScaler\n",
        "scaler = StandardScaler()\n",
        "# Fit and transform the training data\n",
        "# Fitting is used to learn the parameters from the data\n",
        "# Transform function will apply the learned transformation to the data\n",
        "X_train = scaler.fit_transform(X_train)\n",
        "# Transform the test data\n",
        "X_test = scaler.transform(X_test)\n",
        "#Viewing the data\n",
        "print(X_train)\n",
        "print(X_test)\n",
        "print(y_train)\n",
        "print(y_test)\n"
      ],
      "metadata": {
        "colab": {
          "base_uri": "https://localhost:8080/"
        },
        "id": "VdmCNIA2glOj",
        "outputId": "43cccc9b-6ec1-40c8-d2e1-de138fa07201"
      },
      "execution_count": 5,
      "outputs": [
        {
          "output_type": "stream",
          "name": "stdout",
          "text": [
            "[[-1.47393679  1.20365799 -1.56253475 -1.31260282]\n",
            " [-0.13307079  2.99237573 -1.27600637 -1.04563275]\n",
            " [ 1.08589829  0.08570939  0.38585821  0.28921757]\n",
            " [-1.23014297  0.75647855 -1.2187007  -1.31260282]\n",
            " [-1.7177306   0.30929911 -1.39061772 -1.31260282]\n",
            " [ 0.59831066 -1.25582892  0.72969227  0.95664273]\n",
            " [ 0.72020757  0.30929911  0.44316389  0.4227026 ]\n",
            " [-0.74255534  0.98006827 -1.27600637 -1.31260282]\n",
            " [-0.98634915  1.20365799 -1.33331205 -1.31260282]\n",
            " [-0.74255534  2.32160658 -1.27600637 -1.44608785]\n",
            " [-0.01117388 -0.80864948  0.78699794  0.95664273]\n",
            " [ 0.23261993  0.75647855  0.44316389  0.55618763]\n",
            " [ 1.08589829  0.08570939  0.55777524  0.4227026 ]\n",
            " [-0.49876152  1.87442714 -1.39061772 -1.04563275]\n",
            " [-0.49876152  1.4272477  -1.27600637 -1.31260282]\n",
            " [-0.37686461 -1.47941864 -0.01528151 -0.24472256]\n",
            " [ 0.59831066 -0.58505976  0.78699794  0.4227026 ]\n",
            " [ 0.72020757  0.08570939  1.01622064  0.8231577 ]\n",
            " [ 0.96400139 -0.13788033  0.38585821  0.28921757]\n",
            " [ 1.69538284  1.20365799  1.3600547   1.75755292]\n",
            " [-0.13307079 -0.36147005  0.27124686  0.15573254]\n",
            " [ 2.18297047 -0.13788033  1.64658307  1.22361279]\n",
            " [-0.2549677  -0.13788033  0.44316389  0.4227026 ]\n",
            " [-0.86445224  0.98006827 -1.33331205 -1.31260282]\n",
            " [ 2.30486738 -0.58505976  1.70388875  1.09012776]\n",
            " [-0.01117388 -0.80864948  0.21394119 -0.24472256]\n",
            " [-0.74255534  0.75647855 -1.33331205 -1.31260282]\n",
            " [-0.98634915  0.98006827 -1.39061772 -1.17911778]\n",
            " [-0.86445224  1.65083742 -1.04678367 -1.04563275]\n",
            " [-0.98634915 -2.37377751 -0.12989286 -0.24472256]\n",
            " [ 0.59831066 -0.80864948  0.67238659  0.8231577 ]\n",
            " [-1.23014297  0.75647855 -1.04678367 -1.31260282]\n",
            " [-0.98634915 -0.13788033 -1.2187007  -1.31260282]\n",
            " [-0.86445224  0.53288883 -1.16139502 -0.91214772]\n",
            " [-0.2549677  -0.80864948  0.27124686  0.15573254]\n",
            " [-0.86445224  0.75647855 -1.27600637 -1.31260282]\n",
            " [-0.13307079 -0.13788033  0.27124686  0.02224751]\n",
            " [ 2.30486738  1.65083742  1.70388875  1.35709783]\n",
            " [-1.47393679  0.30929911 -1.33331205 -1.31260282]\n",
            " [ 0.47641375 -0.36147005  0.32855254  0.15573254]\n",
            " [-0.13307079 -1.25582892  0.72969227  1.09012776]\n",
            " [-0.37686461  2.5451963  -1.33331205 -1.31260282]\n",
            " [ 0.23261993 -0.13788033  0.61508092  0.8231577 ]\n",
            " [-0.01117388 -0.80864948  0.78699794  0.95664273]\n",
            " [ 0.23261993 -1.92659808  0.15663551 -0.24472256]\n",
            " [-0.49876152 -0.13788033  0.44316389  0.4227026 ]\n",
            " [ 0.47641375  0.75647855  0.95891497  1.49058286]\n",
            " [-0.37686461 -1.70300836  0.15663551  0.15573254]\n",
            " [-0.49876152  1.87442714 -1.16139502 -1.04563275]\n",
            " [-0.98634915 -1.70300836 -0.24450422 -0.24472256]\n",
            " [ 0.72020757 -0.80864948  0.90160929  0.95664273]\n",
            " [-0.98634915  0.53288883 -1.33331205 -1.31260282]\n",
            " [-0.98634915  0.30929911 -1.4479234  -1.31260282]\n",
            " [-0.37686461 -1.47941864  0.04202416 -0.11123753]\n",
            " [ 1.08589829 -0.13788033  0.72969227  0.68967267]\n",
            " [-1.10824606  0.08570939 -1.27600637 -1.31260282]\n",
            " [-0.01117388 -0.58505976  0.78699794  1.62406789]\n",
            " [-0.98634915  0.75647855 -1.27600637 -1.31260282]\n",
            " [-0.98634915  0.98006827 -1.2187007  -0.77866269]\n",
            " [ 0.11072303  0.30929911  0.61508092  0.8231577 ]\n",
            " [-0.86445224 -1.25582892 -0.41642124 -0.11123753]\n",
            " [ 1.32969211  0.30929911  1.130832    1.49058286]\n",
            " [ 0.23261993 -0.80864948  0.78699794  0.55618763]\n",
            " [ 0.35451684 -1.0322392   1.07352632  0.28921757]\n",
            " [ 2.30486738 -0.13788033  1.3600547   1.49058286]\n",
            " [-0.37686461 -1.25582892  0.15663551  0.15573254]\n",
            " [-1.7177306  -0.36147005 -1.33331205 -1.31260282]\n",
            " [-1.83962751 -0.13788033 -1.50522907 -1.44608785]\n",
            " [ 0.23261993 -1.92659808  0.72969227  0.4227026 ]\n",
            " [ 1.69538284  0.30929911  1.30274902  0.8231577 ]\n",
            " [-1.47393679  0.08570939 -1.27600637 -1.31260282]\n",
            " [-0.86445224  0.98006827 -1.33331205 -1.17911778]\n",
            " [-1.7177306  -0.13788033 -1.39061772 -1.31260282]\n",
            " [ 0.59831066 -1.25582892  0.67238659  0.4227026 ]\n",
            " [ 0.59831066  0.75647855  1.07352632  1.62406789]\n",
            " [-1.47393679  0.75647855 -1.33331205 -1.17911778]\n",
            " [ 1.2077952  -0.13788033  1.01622064  1.22361279]\n",
            " [ 0.59831066  0.53288883  1.30274902  1.75755292]\n",
            " [-1.35203988  0.30929911 -1.39061772 -1.31260282]\n",
            " [ 0.35451684 -0.36147005  0.55777524  0.28921757]\n",
            " [ 0.84210448 -0.58505976  0.50046957  0.4227026 ]\n",
            " [ 0.47641375 -0.58505976  0.61508092  0.8231577 ]\n",
            " [ 1.45158902  0.30929911  0.55777524  0.28921757]\n",
            " [ 0.72020757  0.30929911  0.90160929  1.49058286]\n",
            " [-0.86445224  1.65083742 -1.2187007  -1.31260282]\n",
            " [ 1.32969211  0.08570939  0.95891497  1.22361279]\n",
            " [ 0.11072303 -0.13788033  0.27124686  0.4227026 ]\n",
            " [ 0.84210448 -0.13788033  0.84430362  1.09012776]\n",
            " [-0.13307079 -1.0322392  -0.12989286 -0.24472256]\n",
            " [-0.74255534 -0.80864948  0.09932984  0.28921757]\n",
            " [ 0.35451684 -0.13788033  0.50046957  0.28921757]\n",
            " [-1.5958337  -1.70300836 -1.39061772 -1.17911778]\n",
            " [ 0.96400139 -0.36147005  0.50046957  0.15573254]\n",
            " [-0.37686461 -1.0322392   0.38585821  0.02224751]\n",
            " [-0.62065843  1.4272477  -1.27600637 -1.31260282]\n",
            " [-0.2549677  -0.13788033  0.21394119  0.15573254]\n",
            " [ 1.81727975 -0.36147005  1.47466605  0.8231577 ]\n",
            " [ 1.08589829  0.53288883  1.130832    1.22361279]\n",
            " [-0.86445224  1.4272477  -1.27600637 -1.04563275]\n",
            " [-1.10824606 -1.47941864 -0.24450422 -0.24472256]\n",
            " [ 1.08589829  0.53288883  1.130832    1.75755292]\n",
            " [ 1.69538284 -0.13788033  1.18813767  0.55618763]\n",
            " [-1.10824606  1.20365799 -1.33331205 -1.44608785]\n",
            " [ 1.08589829  0.08570939  1.07352632  1.62406789]\n",
            " [-1.10824606 -0.13788033 -1.33331205 -1.31260282]\n",
            " [ 1.32969211  0.08570939  0.67238659  0.4227026 ]\n",
            " [ 1.93917666 -0.58505976  1.3600547   0.95664273]\n",
            " [ 0.59831066 -0.36147005  1.07352632  0.8231577 ]\n",
            " [-0.13307079 -0.58505976  0.21394119  0.15573254]\n",
            " [ 0.84210448 -0.13788033  1.01622064  0.8231577 ]\n",
            " [ 0.59831066 -1.70300836  0.38585821  0.15573254]\n",
            " [ 0.72020757 -0.36147005  0.32855254  0.15573254]\n",
            " [-0.2549677  -0.58505976  0.67238659  1.09012776]\n",
            " [ 0.11072303 -0.13788033  0.78699794  0.8231577 ]\n",
            " [-0.49876152  0.75647855 -1.16139502 -1.31260282]\n",
            " [ 0.35451684 -0.58505976  0.15663551  0.15573254]\n",
            " [-1.10824606 -1.25582892  0.44316389  0.68967267]\n",
            " [-0.01117388  2.09801686 -1.4479234  -1.31260282]\n",
            " [-0.01117388 -1.0322392   0.15663551  0.02224751]\n",
            " [ 1.57348593 -0.13788033  1.24544335  1.22361279]]\n",
            "[[ 0.35451684 -0.58505976  0.55777524  0.02224751]\n",
            " [-0.13307079  1.65083742 -1.16139502 -1.17911778]\n",
            " [ 2.30486738 -1.0322392   1.8185001   1.49058286]\n",
            " [ 0.23261993 -0.36147005  0.44316389  0.4227026 ]\n",
            " [ 1.2077952  -0.58505976  0.61508092  0.28921757]\n",
            " [-0.49876152  0.75647855 -1.27600637 -1.04563275]\n",
            " [-0.2549677  -0.36147005 -0.07258719  0.15573254]\n",
            " [ 1.32969211  0.08570939  0.78699794  1.49058286]\n",
            " [ 0.47641375 -1.92659808  0.44316389  0.4227026 ]\n",
            " [-0.01117388 -0.80864948  0.09932984  0.02224751]\n",
            " [ 0.84210448  0.30929911  0.78699794  1.09012776]\n",
            " [-1.23014297 -0.13788033 -1.33331205 -1.44608785]\n",
            " [-0.37686461  0.98006827 -1.39061772 -1.31260282]\n",
            " [-1.10824606  0.08570939 -1.27600637 -1.44608785]\n",
            " [-0.86445224  1.65083742 -1.27600637 -1.17911778]\n",
            " [ 0.59831066  0.53288883  0.55777524  0.55618763]\n",
            " [ 0.84210448 -0.13788033  1.18813767  1.35709783]\n",
            " [-0.2549677  -1.25582892  0.09932984 -0.11123753]\n",
            " [-0.13307079 -0.58505976  0.44316389  0.15573254]\n",
            " [ 0.72020757 -0.58505976  1.07352632  1.35709783]\n",
            " [-1.35203988  0.30929911 -1.2187007  -1.31260282]\n",
            " [ 0.35451684 -0.13788033  0.67238659  0.8231577 ]\n",
            " [-0.98634915  0.75647855 -1.2187007  -1.04563275]\n",
            " [ 0.72020757 -0.58505976  1.07352632  1.22361279]\n",
            " [ 2.5486612   1.65083742  1.53197172  1.09012776]\n",
            " [ 1.08589829 -0.13788033  0.84430362  1.49058286]\n",
            " [ 1.08589829 -1.25582892  1.18813767  0.8231577 ]\n",
            " [ 1.2077952   0.30929911  1.24544335  1.49058286]\n",
            " [-1.23014297 -0.13788033 -1.33331205 -1.17911778]\n",
            " [-1.23014297  0.08570939 -1.2187007  -1.31260282]]\n",
            "[0 0 1 0 0 2 1 0 0 0 2 1 1 0 0 1 2 2 1 2 1 2 1 0 2 1 0 0 0 1 2 0 0 0 1 0 1\n",
            " 2 0 1 2 0 2 2 1 1 2 1 0 1 2 0 0 1 1 0 2 0 0 1 1 2 1 2 2 1 0 0 2 2 0 0 0 1\n",
            " 2 0 2 2 0 1 1 2 1 2 0 2 1 2 1 1 1 0 1 1 0 1 2 2 0 1 2 2 0 2 0 1 2 2 1 2 1\n",
            " 1 2 2 0 1 2 0 1 2]\n",
            "[1 0 2 1 1 0 1 2 1 1 2 0 0 0 0 1 2 1 1 2 0 2 0 2 2 2 2 2 0 0]\n"
          ]
        }
      ]
    },
    {
      "cell_type": "markdown",
      "source": [
        "##Training the model"
      ],
      "metadata": {
        "id": "tD2yweA2gvIw"
      }
    },
    {
      "cell_type": "code",
      "source": [
        "# Train the model\n",
        "knn = KNeighborsClassifier(n_neighbors=3)\n",
        "knn.fit(X_train, y_train)"
      ],
      "metadata": {
        "colab": {
          "base_uri": "https://localhost:8080/",
          "height": 75
        },
        "id": "fsPzrGMzgx2P",
        "outputId": "478fddf0-4fee-447d-d1e7-1aebfda2e076"
      },
      "execution_count": 6,
      "outputs": [
        {
          "output_type": "execute_result",
          "data": {
            "text/plain": [
              "KNeighborsClassifier(n_neighbors=3)"
            ],
            "text/html": [
              "<style>#sk-container-id-1 {color: black;}#sk-container-id-1 pre{padding: 0;}#sk-container-id-1 div.sk-toggleable {background-color: white;}#sk-container-id-1 label.sk-toggleable__label {cursor: pointer;display: block;width: 100%;margin-bottom: 0;padding: 0.3em;box-sizing: border-box;text-align: center;}#sk-container-id-1 label.sk-toggleable__label-arrow:before {content: \"▸\";float: left;margin-right: 0.25em;color: #696969;}#sk-container-id-1 label.sk-toggleable__label-arrow:hover:before {color: black;}#sk-container-id-1 div.sk-estimator:hover label.sk-toggleable__label-arrow:before {color: black;}#sk-container-id-1 div.sk-toggleable__content {max-height: 0;max-width: 0;overflow: hidden;text-align: left;background-color: #f0f8ff;}#sk-container-id-1 div.sk-toggleable__content pre {margin: 0.2em;color: black;border-radius: 0.25em;background-color: #f0f8ff;}#sk-container-id-1 input.sk-toggleable__control:checked~div.sk-toggleable__content {max-height: 200px;max-width: 100%;overflow: auto;}#sk-container-id-1 input.sk-toggleable__control:checked~label.sk-toggleable__label-arrow:before {content: \"▾\";}#sk-container-id-1 div.sk-estimator input.sk-toggleable__control:checked~label.sk-toggleable__label {background-color: #d4ebff;}#sk-container-id-1 div.sk-label input.sk-toggleable__control:checked~label.sk-toggleable__label {background-color: #d4ebff;}#sk-container-id-1 input.sk-hidden--visually {border: 0;clip: rect(1px 1px 1px 1px);clip: rect(1px, 1px, 1px, 1px);height: 1px;margin: -1px;overflow: hidden;padding: 0;position: absolute;width: 1px;}#sk-container-id-1 div.sk-estimator {font-family: monospace;background-color: #f0f8ff;border: 1px dotted black;border-radius: 0.25em;box-sizing: border-box;margin-bottom: 0.5em;}#sk-container-id-1 div.sk-estimator:hover {background-color: #d4ebff;}#sk-container-id-1 div.sk-parallel-item::after {content: \"\";width: 100%;border-bottom: 1px solid gray;flex-grow: 1;}#sk-container-id-1 div.sk-label:hover label.sk-toggleable__label {background-color: #d4ebff;}#sk-container-id-1 div.sk-serial::before {content: \"\";position: absolute;border-left: 1px solid gray;box-sizing: border-box;top: 0;bottom: 0;left: 50%;z-index: 0;}#sk-container-id-1 div.sk-serial {display: flex;flex-direction: column;align-items: center;background-color: white;padding-right: 0.2em;padding-left: 0.2em;position: relative;}#sk-container-id-1 div.sk-item {position: relative;z-index: 1;}#sk-container-id-1 div.sk-parallel {display: flex;align-items: stretch;justify-content: center;background-color: white;position: relative;}#sk-container-id-1 div.sk-item::before, #sk-container-id-1 div.sk-parallel-item::before {content: \"\";position: absolute;border-left: 1px solid gray;box-sizing: border-box;top: 0;bottom: 0;left: 50%;z-index: -1;}#sk-container-id-1 div.sk-parallel-item {display: flex;flex-direction: column;z-index: 1;position: relative;background-color: white;}#sk-container-id-1 div.sk-parallel-item:first-child::after {align-self: flex-end;width: 50%;}#sk-container-id-1 div.sk-parallel-item:last-child::after {align-self: flex-start;width: 50%;}#sk-container-id-1 div.sk-parallel-item:only-child::after {width: 0;}#sk-container-id-1 div.sk-dashed-wrapped {border: 1px dashed gray;margin: 0 0.4em 0.5em 0.4em;box-sizing: border-box;padding-bottom: 0.4em;background-color: white;}#sk-container-id-1 div.sk-label label {font-family: monospace;font-weight: bold;display: inline-block;line-height: 1.2em;}#sk-container-id-1 div.sk-label-container {text-align: center;}#sk-container-id-1 div.sk-container {/* jupyter's `normalize.less` sets `[hidden] { display: none; }` but bootstrap.min.css set `[hidden] { display: none !important; }` so we also need the `!important` here to be able to override the default hidden behavior on the sphinx rendered scikit-learn.org. See: https://github.com/scikit-learn/scikit-learn/issues/21755 */display: inline-block !important;position: relative;}#sk-container-id-1 div.sk-text-repr-fallback {display: none;}</style><div id=\"sk-container-id-1\" class=\"sk-top-container\"><div class=\"sk-text-repr-fallback\"><pre>KNeighborsClassifier(n_neighbors=3)</pre><b>In a Jupyter environment, please rerun this cell to show the HTML representation or trust the notebook. <br />On GitHub, the HTML representation is unable to render, please try loading this page with nbviewer.org.</b></div><div class=\"sk-container\" hidden><div class=\"sk-item\"><div class=\"sk-estimator sk-toggleable\"><input class=\"sk-toggleable__control sk-hidden--visually\" id=\"sk-estimator-id-1\" type=\"checkbox\" checked><label for=\"sk-estimator-id-1\" class=\"sk-toggleable__label sk-toggleable__label-arrow\">KNeighborsClassifier</label><div class=\"sk-toggleable__content\"><pre>KNeighborsClassifier(n_neighbors=3)</pre></div></div></div></div></div>"
            ]
          },
          "metadata": {},
          "execution_count": 6
        }
      ]
    },
    {
      "cell_type": "markdown",
      "source": [
        "##Predicting the labels"
      ],
      "metadata": {
        "id": "oObneecMg9bV"
      }
    },
    {
      "cell_type": "code",
      "source": [
        "# Predict the labels for the test data\n",
        "y_pred = knn.predict(X_test)\n",
        "# Viewing the predicted labels\n",
        "print(y_pred)"
      ],
      "metadata": {
        "colab": {
          "base_uri": "https://localhost:8080/"
        },
        "id": "mOFskcnwg_iZ",
        "outputId": "b544fd72-abfd-45d8-aeed-c8b857dca02d"
      },
      "execution_count": 7,
      "outputs": [
        {
          "output_type": "stream",
          "name": "stdout",
          "text": [
            "[1 0 2 1 1 0 1 2 1 1 2 0 0 0 0 1 2 1 1 2 0 2 0 2 2 2 2 2 0 0]\n"
          ]
        }
      ]
    },
    {
      "cell_type": "markdown",
      "source": [
        "##Evaluating the model"
      ],
      "metadata": {
        "id": "Q5dtYR9FhL2C"
      }
    },
    {
      "cell_type": "code",
      "source": [
        "# Evaluate the model\n",
        "accuracy = accuracy_score(y_test, y_pred)\n",
        "print(f'Accuracy: {accuracy * 100:.2f}%')"
      ],
      "metadata": {
        "colab": {
          "base_uri": "https://localhost:8080/"
        },
        "id": "gCgBmFl8hTIb",
        "outputId": "f100e06f-a792-4bde-e417-009e5cf62463"
      },
      "execution_count": 8,
      "outputs": [
        {
          "output_type": "stream",
          "name": "stdout",
          "text": [
            "Accuracy: 100.00%\n"
          ]
        }
      ]
    }
  ]
}